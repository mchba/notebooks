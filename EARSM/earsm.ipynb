{
 "cells": [
  {
   "cell_type": "markdown",
   "id": "fe50064c",
   "metadata": {},
   "source": [
    "# EARSM\n",
    "\n",
    "Explicit algebraic Reynolds stress models (EARSM) are somewhere in between $k$-$\\varepsilon$ and full RSM; the best of both world, i.e. fast and stable, but more accurate than your usual $k$-$\\varepsilon$. \n",
    "\n",
    "The two main components are:\n",
    "\n",
    "- The implicit algrebraic Reynolds stress equation (with LRR-QI model for pressure strain, which is most typically used):\n",
    "\n",
    "$$\n",
    "\\left(c_1 - 1 + \\frac{\\mathcal{P}}{\\varepsilon}\\right) a = - \\frac{8}{15} S + \\frac{7 c_2 + 1}{11} \\left( a \\Omega - \\Omega a \\right) - \\frac{5 - 9 c_2}{11} \\left(a S + S a + 2/3 tr(aS) I \\right)\n",
    "$$\n",
    "\n",
    "- The Pope universal anisotropy equation:\n",
    "\n",
    "$$\n",
    "a = \\sum \\beta_i T_i\n",
    "$$\n",
    "\n",
    "The set of tensors, $T_i$, are slightly different depending on the source:\n",
    "\n",
    "\n",
    "$$\n",
    "\\begin{matrix}\n",
    " & Pope~(1975) & Apsley+Leschziner~(1998) & Wallin~(2000) \\\\\n",
    " & Taulbee~(1992) &  &  \\\\\n",
    " & Gatski+Speziale~(1993) &  &  \\\\\n",
    "T_1 = & S  &  S  &  S\\\\\n",
    "T_2 =   &  S \\Omega - \\Omega S &  \\Omega S - S \\Omega & S^2 - \\frac{1}{3} II_S \\mathbf{I}\\\\\n",
    "T_3 =   &  S^2 - \\frac{1}{3} II_S \\mathbf{I}  &  S^2 - \\frac{1}{3} II_S \\mathbf{I} & \\Omega^2 - \\frac{1}{3} II_\\Omega \\mathbf{I} \\\\\n",
    "T_4 = & \\Omega^2 - \\frac{1}{3} II_\\Omega \\mathbf{I}  &  \\Omega^2 - \\frac{1}{3} II_\\Omega \\mathbf{I}  & S \\Omega - \\Omega S \\\\\n",
    "T_5 = & \\Omega S^2 - S^2 \\Omega   &  \\Omega S^2 - S^2 \\Omega  & S^2 \\Omega - \\Omega S^2 \\\\\n",
    "T_6 = &  S \\Omega^2 + \\Omega^2 S - \\frac{2}{3} IV \\mathbf{I} & S \\Omega^2 + \\Omega^2 S - II_\\Omega S - \\frac{2}{3} IV \\mathbf{I}   & S \\Omega^2 + \\Omega^2 S - \\frac{2}{3} IV \\mathbf{I} \\\\\n",
    "T_7 = & \\Omega S \\Omega^2 - \\Omega^2 S \\Omega  &  \\Omega S \\Omega^2 - \\Omega^2 S \\Omega  & S^2 \\Omega^2 + \\Omega^2 S^2 - \\frac{2}{3} V \\mathbf{I} \\\\\n",
    "T_8 = & S \\Omega S^2 - S^2 \\Omega S  &  S \\Omega S^2 - S^2 \\Omega S  & S \\Omega S^2 - S^2 \\Omega S \\\\\n",
    "T_9 = & S^2 \\Omega^2 + \\Omega^2 S^2 - \\frac{2}{3} V \\mathbf{I}  &  S^2 \\Omega^2 + \\Omega^2 S^2 - \\frac{2}{3} V \\mathbf{I}  & \\Omega S \\Omega^2 - \\Omega^2 S \\Omega \\\\\n",
    "T_{10} = & \\Omega S^2 \\Omega^2 - \\Omega^2 S^2 \\Omega  &  \\Omega S^2 \\Omega^2 - \\Omega^2 S^2 \\Omega  & \\Omega S^2 \\Omega^2 - \\Omega^2 S^2 \\Omega \\\\\n",
    "\\end{matrix}\n",
    "$$\n",
    "\n",
    "\n",
    "We shall use the ones of Wallin (2000), if not stated otherwise:\n",
    "\n",
    "\n",
    "\n",
    "\n",
    "\n",
    "\n",
    "Note, that we use the following definitions:\n",
    "\n",
    "$$\n",
    "\\begin{align}\n",
    "S_{ij} &= \\frac{1}{2} \\frac{k}{\\varepsilon} \\left(\\frac{\\partial U_i}{\\partial x_j} + \\frac{\\partial U_j}{\\partial x_i} \\right)  \\\\\n",
    "\\Omega_{ij} &= \\frac{1}{2} \\frac{k}{\\varepsilon} \\left(\\frac{\\partial U_i}{\\partial x_j} - \\frac{\\partial U_j}{\\partial x_i} \\right)  \\\\\n",
    "\\end{align}\n",
    "$$\n",
    "\n",
    "The invariants are:\n",
    "\n",
    "$$\n",
    "II_S \\equiv S_{ij} S_{ji} , \\quad II_\\Omega \\equiv \\Omega_{ij} \\Omega_{ji} \n",
    "$$\n",
    "\n",
    "$$\n",
    "III \\equiv S_{ij} S_{jk} S_{ki} , \\quad IV \\equiv S_{ij} \\Omega_{jk} \\Omega_{ki} , \\quad V \\equiv S_{ij} S_{jk} \\Omega_{km} \\Omega_{mi} \n",
    "$$\n",
    "\n",
    "\n",
    "The shear parameter (Apsley+Leschziner 1998 and van der Laan 2014) is defined as:\n",
    "\n",
    "$$\n",
    "\\sigma \\equiv \\frac{k}{\\varepsilon} \\sqrt{\\frac{\\partial U_i}{\\partial x_j} \\frac{\\partial U_i}{\\partial x_j}} =  \\sqrt{(S_{ij}+\\Omega_{ij}) (S_{ij}+\\Omega_{ij})} = \\sqrt{II_S - II_\\Omega}\n",
    "$$\n",
    "\n",
    "- Note 1: The latter equality comes from the trace of symmetric times anti-symmetrix matrix is 0 (c.f. Pope appendix).\n",
    "- Note 2: Pope (1975) and Wallin (2000) define $\\sigma=\\sqrt{II_S/2}$, while Taulbee (1992) defines $\\sigma = \\sqrt{II_S}$, but neither of these definitions shall be used."
   ]
  },
  {
   "cell_type": "markdown",
   "id": "9ac0598a",
   "metadata": {},
   "source": [
    "## History of EARSM\n",
    "\n",
    "All EARS models boils down to the description of the $\\beta$ coefficients and many different models have been suggested in the history.\n",
    "\n",
    "- Pope (1975): The $a = \\sum_i \\beta_i T_i$ is first formulated. Showed that for 3D there are 10 tensor groups and 5 invariants, while for 2D there are 3 tensor groups and 2 invariants. The 2D solution is derived (leaves $N$ implicit, i.e. calculate $N$ using values from timestep $n+1$).\n",
    "- Taulbee (1992): The simplified (i.e. $c_2=5/9$) 3D solution is derived (leaves $N$ implicit).\n",
    "- Gatski and Speziale (1993): The general 3D solution is derived (fixes $N=1$).\n",
    "- Johansson & Wallin (1996): The self-consistent (i.e. does NOT leave $N$ implicit, but calculates with values from timestep $n$ using closed analytical cubic solution), simplified 2D solution is derived.\n",
    "- Girimaji (1996): The self-consistent, general 2D solution is derived."
   ]
  },
  {
   "cell_type": "markdown",
   "id": "aca56618",
   "metadata": {},
   "source": [
    "## EARSM in 2D\n",
    "\n",
    "If there is no variation in one direction (e.g. flow over backward-facing step, flow over wavy surface, homogeneous ABL, etc.) and the velocity in that direction is 0, then the tensor group simplifies significantly:\n",
    "\n",
    "\n",
    "$$\n",
    "\\begin{matrix}\n",
    " & Pope~(1975) & Apsley+Leschziner~(1998) & Wallin~(2000) \\\\\n",
    " & Taulbee~(1992) &  &  \\\\\n",
    " & Gatski+Speziale~(1993) &  &  \\\\\n",
    "T_1 = & S  &  S  &  S\\\\\n",
    "T_2 =   &  S \\Omega - \\Omega S \n",
    "        &  \\Omega S - S \\Omega \n",
    "        & S^2 - \\frac{1}{3} II_S \\mathbf{I}\\\\\n",
    "T_3 =   &  S^2 - \\frac{1}{3} II_S \\mathbf{I}  \n",
    "        &  S^2 - \\frac{1}{3} II_S \\mathbf{I} \n",
    "        & \\frac{II_\\Omega}{II_S} T_2 \\\\\n",
    "T_4 = & \\frac{II_\\Omega}{II_S}T_3\n",
    "      & \\frac{II_\\Omega}{II_S}T_3  \n",
    "      & S \\Omega - \\Omega S \\\\\n",
    "T_5 = & 0   \n",
    "      & 0  \n",
    "      & 0 \\\\\n",
    "T_6 = & II_\\Omega T_1 \n",
    "      & 0   \n",
    "      & II_\\Omega T_1 \\\\\n",
    "T_7 = & -\\frac{1}{2} II_\\Omega T_2  \n",
    "      & \\frac{1}{2} II_\\Omega T_2  \n",
    "      & II_\\Omega T_2 \\\\\n",
    "T_8 = & -\\frac{1}{2} II_\\Omega T_2  \n",
    "      & \\frac{1}{2} II_\\Omega T_2  \n",
    "      & -\\frac{1}{2} II_\\Omega T_4 \\\\\n",
    "T_9 = & II_\\Omega T_3\n",
    "      & II_\\Omega T_3  \n",
    "      & - \\frac{1}{2} II_\\Omega T_4 \\\\\n",
    "T_{10} = & 0  \n",
    "         & 0  \n",
    "         & 0 \\\\\n",
    "\\end{matrix}\n",
    "$$\n",
    "\n",
    "\n",
    "There are only three independent tensors in 2D (all others are either 0 or functions of the three). For example $T_5 = 0$ can be derived using the following expressions valid in 2D (Pope 1975, appendix):\n",
    "\n",
    "$$\n",
    "S^2 = \\frac{1}{2}  II_S I_2 \\quad , \\quad \\Omega^2 = \\frac{1}{2}  II_\\Omega I_2\n",
    "$$\n",
    "\n",
    "$$\n",
    "S \\Omega S = - \\frac{1}{2} \\Omega II_S \\quad , \\quad \\Omega S \\Omega = - \\frac{1}{2} S II_\\Omega\n",
    "$$\n",
    "\n",
    "Apsley groups:\n",
    "\n",
    "$$\n",
    "\\begin{align}\n",
    "T_5 &\\equiv \\Omega S^2 - S^2 \\Omega \\\\\n",
    "    &= \\Omega \\left(\\frac{1}{2}  II_S I_2 \\right) - \\left(\\frac{1}{2}  II_S I_2 \\right) \\Omega \\\\\n",
    "    &= 0\n",
    "\\end{align}\n",
    "$$\n",
    "\n",
    "\n",
    "$$\n",
    "\\begin{align}\n",
    "T_6 &\\equiv S \\Omega^2 + \\Omega^2 S - II_\\Omega S - \\frac{2}{3} IV \\mathbf{I} \\\\\n",
    "    &= S \\left(\\frac{1}{2}  II_\\Omega I_2 \\right) + \\left(\\frac{1}{2}  II_\\Omega I_2 \\right) S - II_\\Omega S - \\frac{2}{3} IV \\mathbf{I} \\\\\n",
    "    &= 0\n",
    "\\end{align}\n",
    "$$\n",
    "\n",
    "$$\n",
    "I_2 = \\begin{bmatrix} 1 & 0 & 0 \\\\ 0 & 0 & 0 \\\\ 0 & 0 & 1 \\end{bmatrix} \\quad (\\text{no variation in y-direction})\n",
    "$$\n",
    "\n",
    "\n",
    "The invariants are:\n",
    "\n",
    "$$\n",
    "II_S \\equiv S_{ij} S_{ji} , \\quad II_\\Omega \\equiv \\Omega_{ij} \\Omega_{ji} \n",
    "$$\n",
    "\n",
    "$$\n",
    "III = 0 , \\quad IV = 0 , \\quad V \\neq 0 \n",
    "$$\n",
    "\n",
    "Wallin writes that $II_\\Omega < 0$ always.\n",
    "\n",
    "The strain, mean rotation and anisotropy tensors are (assuming no variation in $y$-direction, we are in the $x$-$z$ plane):\n",
    "\n",
    "$$\n",
    "S_{ij} = \\begin{bmatrix} S_{11} & S_{12} & S_{13} \\\\ S_{12} & 0 & S_{23} \\\\ S_{13} & S_{23} & -S_{11} \\end{bmatrix}  \\quad , \\quad\n",
    "\\Omega_{ij} = \\begin{bmatrix} 0 & \\Omega_{12} & \\Omega_{13} \\\\ -\\Omega_{12} & 0 & \\Omega_{23} \\\\ -\\Omega_{13} & -\\Omega_{23} & 0 \\end{bmatrix} \n",
    " \\quad , \\quad\n",
    "a_{ij} = \\begin{bmatrix} a_{11} & a_{12} & a_{13} \\\\ a_{12} & a_{22} & a_{23} \\\\ a_{13} & a_{23} & -a_{11}-a_{22} \\end{bmatrix} \n",
    "$$\n",
    "\n",
    "- The tensors are not simplified significantly, so we might as well keep them in 3D formulation in the code. Can of course also use the 3D model for 1D and 2D flows, but the coding is just more complicated than necessary.\n",
    "- A single-column model (SCM) is a subcase of 2D, where we also assume no variation in $x$-direction. This also means that $W = 0$, because of continuity, and the tensors will simplify.\n",
    "- A subcase of SCM is \"simple shear flow\", where we also assume uni-directional flow, e.g. log-law or channel flow.\n",
    "\n",
    "$$\n",
    "(T_4)_{22} = (S_{12} \\Omega_{12} - S_{23} \\Omega_{23}) - (- S_{12} \\Omega_{12} - S_{23} \\Omega_{23}) = 2 S_{12} \\Omega_{12}\n",
    "$$"
   ]
  },
  {
   "cell_type": "markdown",
   "id": "171ca254",
   "metadata": {},
   "source": [
    "## EARSM in parallel flow (aka. unidirectional 1D flow)\n",
    "\n",
    "If there is only variation in one direction (e.g. channel flow, neutral ASL, homegeneous shear flow), i.e. only $dU/dz \\neq 0$.\n",
    "\n",
    "$$\n",
    "S_{ij} =  \\begin{bmatrix} 0 & 0 & \\frac{1}{2}\\sigma \\\\ 0 & 0 & 0 \\\\ \\frac{1}{2}\\sigma & 0 & 0 \\end{bmatrix} \\quad , \\quad \\Omega_{ij} =  \\begin{bmatrix} 0 & 0 & \\frac{1}{2}\\sigma \\\\ 0 & 0 & 0 \\\\ -\\frac{1}{2}\\sigma & 0 & 0 \\end{bmatrix}\n",
    "$$\n",
    "\n",
    "\n",
    "- $\\sigma \\equiv \\sqrt{II_S - II_\\Omega} = \\frac{k}{\\varepsilon} \\frac{dU}{dz}$.\n",
    "- $II_S = -II_\\Omega = \\frac{1}{2} \\sigma^2$\n",
    "- $III = IV = 0$\n",
    "- $V = -\\frac{1}{8} \\sigma^4$\n",
    "- $P/\\varepsilon \\equiv -a_{ij} S_{ji} = - 2 a_{13} S_{13} = -a_{13} \\sigma$, hence $a_{13}$ is the only anisotropy component contributing to $P/\\varepsilon$ (Wallin 2000, p.96).\n",
    "- $a_{33}$ is the only anisotropy component contributing to turbulent diffusion term (Wallin 2000, p.96)\n",
    "- $S^2 = \\frac{1}{2} II_S I_2$ and $\\Omega^2 = \\frac{1}{2} II_\\Omega I_2$, hence $S^2 = - \\Omega^2$.\n",
    "- $ S \\Omega S = - \\frac{1}{2} \\Omega II_S$ and  $\\Omega S \\Omega = - \\frac{1}{2} S II_\\Omega$.\n",
    "\n",
    "\n",
    "$$\n",
    "\\begin{matrix}\n",
    " & Pope~(1975) & Apsley+Leschziner~(1998) & Wallin~(2000) \\\\\n",
    " & Taulbee~(1992) &  &  \\\\\n",
    " & Gatski+Speziale~(1993) &  &  \\\\\n",
    "T_1 = & S  &  S  &  S\\\\\n",
    "T_2 =   &  S \\Omega - \\Omega S \n",
    "        &  \\Omega S - S \\Omega \n",
    "        & S^2 - \\frac{1}{3} II_S \\mathbf{I}\\\\\n",
    "T_3 =   &  S^2 - \\frac{1}{3} II_S \\mathbf{I}  \n",
    "        &  S^2 - \\frac{1}{3} II_S \\mathbf{I} \n",
    "        & -T_2 \\\\\n",
    "T_4 = & -T_3\n",
    "      & -T_3  \n",
    "      & S \\Omega - \\Omega S \\\\\n",
    "T_5 = & 0   \n",
    "      & 0  \n",
    "      & 0 \\\\\n",
    "T_6 = & II_\\Omega T_1 \n",
    "      & 0   \n",
    "      & II_\\Omega T_1 \\\\\n",
    "T_7 = & -\\frac{1}{2} II_\\Omega T_2  \n",
    "      & \\frac{1}{2} II_\\Omega T_2  \n",
    "      & II_\\Omega T_2 \\\\\n",
    "T_8 = & -\\frac{1}{2} II_\\Omega T_2  \n",
    "      & \\frac{1}{2} II_\\Omega T_2  \n",
    "      & -\\frac{1}{2} II_\\Omega T_4 \\\\\n",
    "T_9 = & II_\\Omega T_3\n",
    "      & II_\\Omega T_3  \n",
    "      & - \\frac{1}{2} II_\\Omega T_4 \\\\\n",
    "T_{10} = & 0  \n",
    "         & 0  \n",
    "         & 0 \\\\\n",
    "\\end{matrix}\n",
    "$$\n"
   ]
  },
  {
   "cell_type": "markdown",
   "id": "50f226d6",
   "metadata": {},
   "source": [
    "\n",
    "## Self-conistent simplified 2D EARSM (Wallin 2000)\n",
    "\n",
    "It is called \"simplified\" in Wallin (2000), because a clever choice of model constants makes the equations much simpler (more details in the derivation at the end of the notebook), while \"self-consistent\" means that we calculate $P/\\varepsilon$ (or equivalently $N$) as a part of the solution instead of fixing it or leaving it implicit. In summary the model is applied as:\n",
    "\n",
    "- From last iteration, we have $U$, $V$, $k$ and $\\varepsilon$ $\\rightarrow$ we can get the mean strain and rotation tensors, $S_{ij}$ and $\\Omega_{ij}$.\n",
    "- Calculate invariants, $II_S$ and $II_\\Omega$\n",
    "- Calculate $N$\n",
    "- Calculate $\\beta_1$ and $\\beta_4$\n",
    "- Calculate $a = \\beta_1 T_1 + \\beta_4 T_4$\n",
    "- From $a_{ij}$ and $k$ we can obtain all the turbulence fluxes, which can be used to solve the mom'm equation.\n",
    "- Finally, the auxillary $k$ and $\\varepsilon$ equation are solved with the new momentum solution.\n",
    "\n",
    "In the simplified 2D model, $N$ is obtained from the invariants:\n",
    "\n",
    "<img src=\"N_2D_taulbee.png\"/>\n",
    "\n",
    ", where $c_1' = 1.8$. Next, the tensor coefficients are calculated as:\n",
    "\n",
    "$$\n",
    "\\beta_1 = - \\frac{6}{5} \\frac{N}{N^2 - 2 II_\\Omega} \\quad , \\quad \\beta_4 = - \\frac{6}{5} \\frac{1}{N^2 - 2 II_\\Omega} = \\beta_1/N \n",
    "$$\n",
    "\n",
    "Insert the coefficients in Pope's equation and isolate Reynolds stress:\n",
    "\n",
    "$$\n",
    "\\begin{align}\n",
    "\\overline{u_i u_j} &= a_{ij} k + \\frac{2}{3} k \\delta_{ij} \\\\\n",
    "        &= \\left( \\beta_1 T_1 + \\beta_4 T_4 \\right) k + \\frac{2}{3} k \\delta_{ij} \\\\\n",
    "        &= - 2 \\underbrace{\\left(- \\frac{1}{2} \\beta_1\\right)}_{C_{\\mu,eff}} k T_1  + k \\underbrace{\\beta_4 T_4}_{a_{ij}^{(ex)}} + \\frac{2}{3} k \\delta_{ij}\n",
    "\\end{align}\n",
    "$$\n",
    "\n",
    "\n",
    "\n",
    "The model is equivalent to the usual Boussinesq hypothesis, but with an \"effective\" $C_\\mu$ and an additional source term (this source should be treated explicitly to not cause troubles). This makes it relatively simple to implement!\n",
    "\n",
    "## Self-conistent general 2D EARSM (Wallin 2000)\n",
    "\n",
    "See appendix C of Wallin (2000). Has non-zero $\\beta_1$, $\\beta_2$ and $\\beta_4$.\n",
    "\n",
    "\n",
    "## Apsley and Leschziner EARSM family\n",
    "\n",
    "Developed by Apsley and Leschziner (1998) and reviewed by van der Laan (2014). It is only applicable to flows, where the background flow is in equilibrium (i.e. log-law background flow). Some notation:\n",
    "- They use \"$G$\" instead of \"$\\beta$\"\n",
    "- Apsley+Leschziner tensor group is used\n",
    "- Their invaraints are called $\\eta_1 , \\dots , \\eta_5$\n",
    "\n",
    "The model comes in four versions (aka \"orders\"):\n",
    "\n",
    "<img src=\"aps_lesch_coef.png\"/>\n",
    "\n",
    "Insert the coefficients in Pope's equation and isolate Reynolds stress:\n",
    "\n",
    "$$\n",
    "\\begin{align}\n",
    "\\overline{u_i u_j} &= a_{ij} k + \\frac{2}{3} k \\delta_{ij} \\\\\n",
    "        &= \\left( G_1 T_1 + \\dots + G_{10} T_{10} \\right) k + \\frac{2}{3} k \\delta_{ij} \\\\\n",
    "        &= \\left( G_1 T_1 + \\dots + II_\\Omega G_6 S +  \\dots + G_{10} T_{10} \\right) k + \\frac{2}{3} k \\delta_{ij} \\\\\n",
    "        &= - 2 \\underbrace{\\left(- \\frac{1}{2} \\beta_1\\right)}_{C_{\\mu,eff}} k T_1  + k \\underbrace{\\beta_4 T_4}_{a_{ij}^{(ex)}} + \\frac{2}{3} k \\delta_{ij}\n",
    "\\end{align}\n",
    "$$\n",
    "\n",
    "\n",
    "\n",
    "<img src=\"aps_lesch_cal.png\"/>\n",
    "\n",
    "All of the versions require the $f_P$-correction suggested by Apsley (1998):\n",
    "\n",
    "$$\n",
    "f_P = \\frac{2 f_0}{1 + \\sqrt{1 + 4 f_0 (f_0 -1) (\\sigma/\\tilde{\\sigma})^2}} \\quad , \\quad f_0 = 1 + \\frac{1 }{(C_1 - 1)}\\quad , \\quad \\tilde{\\sigma}=C_\\mu^{-1/2} \n",
    "$$\n",
    "\n",
    "Here $\\tilde{\\sigma}$ denotes the value of $\\sigma$ evaluated in the log-law background flow, hence $\\sigma/\\tilde{\\sigma} = 1$ and $f_P=1$ in the log-law region. \n",
    "\n",
    "$A_1$ and $A_2$ are calibration parameters, which can be set using a reference background flow (denoted by \"tilde\"):\n",
    "\n",
    "$$\n",
    "A_1 \\equiv \\frac{\\tilde{a}_{11} + \\tilde{a}_{33}}{\\tilde{a}_{13}} \\quad , \\quad A_2 \\equiv \\frac{\\tilde{a}_{11} - \\tilde{a}_{33}}{\\tilde{a}_{13}}\n",
    "$$\n",
    "\n",
    "ABL log-law flow (van der Laan (2014), p.28) with $C_\\mu = 0.03$:\n",
    "- $\\tilde{a}_{11} = 0.38$, $\\tilde{a}_{33} = -0.38$, $\\tilde{a}_{13} = -\\sqrt{C_\\mu} = -0.173$ $\\Rightarrow$ $A_1 = 0.0$, $A_2 = -4.388$ \n",
    "\n",
    "For comparison, the log-law region in a DNS of channel-flow is (c.f. Table 1 of Wallin (2000)): \n",
    "- $\\tilde{a}_{11} = 0.34$, $\\tilde{a}_{33} = -0.26$, $\\tilde{a}_{13} = -0.29$ $\\Rightarrow$ $A_1 = -0.276$, $A_2 = -2.069$ \n",
    "\n",
    "It can be noted that there is a \"$-II_\\Omega S$\"-term in $T^{(6)}$, hence it contributes to $C_{mu,eff}$ defined from:\n",
    "\n",
    "$$\n",
    "a = - 2 C_{\\mu,eff} S + ...\n",
    "$$\n",
    "\n",
    "Therefore $C_{\\mu,eff} = - \\frac{1}{2} \\left( G^{(1)} - G^{(6)} II_\\Omega\\right)$. \n",
    "\n",
    "\n",
    "## Apsley and Leschziner 2D EARSM\n",
    "\n",
    "I have not found an article that shows the 2D version of the model, but the 3D model can of course also be applied directly for 2D flows. However, if one wants to simplify the coding, two simplifications can be made in the code:\n",
    "\n",
    "- $\\eta_3 = \\eta_4 = \\eta_5 = 0$, which however only simplifies the $G^{(1)}$ coefficient of the 4'th order model..\n",
    "- The following tensor groups are 0: $T_5$ and more?\n",
    "\n",
    "\n",
    "\n",
    "## Apsley and Leschziner NLEVM models\n",
    "\n",
    "(disclaimer: this is *NOT* the same as the Apsley-Leschziner EARSM)\n",
    "\n",
    "Paul truncated the Apsley and Leschziner EARSM and only used the $T_1$ group, i.e.:\n",
    "\n",
    "<img src=\"paul_truncation.png\"/>\n",
    "\n",
    "This can be re-written to:\n",
    "\n",
    "$$\n",
    "\\begin{align}\n",
    "\\overline{u_i u_j} &= - 2 C_{\\mu,eff} k T_1  + \\frac{2}{3} k \\delta_{ij}\n",
    "\\end{align}\n",
    "$$\n",
    "\n",
    ", where $C_{\\mu,eff} = - \\frac{1}{2} G^{(1)}$ is simply taken from *the first row* of the $G$-table from before. For all orders $C_{\\mu,eff}$ is non-constant, because of $f_P$. One can note that order 1 and 2 are the same in this truncated mode, and actually these orders are what has become known as the $k$-$\\varepsilon$-$f_P$ model.\n",
    "\n",
    "\n",
    "## Self-consistent general 2D case\n",
    "\n",
    "Here we *don't* assume $c_2=5/9$, so we can not throw away the third term of the ARSM equation $\\rightarrow$ it gives much more complicated equations! \n",
    "\n",
    "Grimanji (1996a,b) was the first to find the analytical solution for $N$ and Wallin (2000) appendix C also gives it.\n",
    "\n",
    "\n",
    "## Self-consistent simplified 3D case\n",
    "\n",
    "Wallin (2000) shows the general 3D case, eq.2.10.\n",
    "\n"
   ]
  },
  {
   "cell_type": "markdown",
   "id": "1d82a48f",
   "metadata": {},
   "source": [
    "# Appendices\n",
    "\n",
    "## App A: Derivation of the self-consistent simplified 2D model\n",
    "\n",
    "This derivation follows the lines of Wallin (2000), but with more details. \n",
    "\n",
    "The \"simplification\" refers to:\n",
    "\n",
    "- Use $c_2 = 5/9$ to throw away the last term of implicit equation (the \"Taulbee simplification\"). Divide through by $4/9$ and define $N = \\left(c_1 - 1 + \\frac{\\mathcal{P}}{\\varepsilon}\\right) 9/4$ to give the \"Taulbee equation\":\n",
    "\n",
    "$$\n",
    "N a = - \\frac{6}{5} S + \\left( a \\Omega - \\Omega a \\right)\n",
    "$$\n",
    "\n",
    "To start, we consider Pope's universal function, which in 2D is:\n",
    "$$\n",
    "a = \\beta_1 T_1 + \\beta_2 T_2 + \\beta_4 T_4\n",
    "$$\n",
    "\n",
    "Then insert Pope's $a$ on RHS:\n",
    "\n",
    "$$\n",
    "\\begin{align}\n",
    "RHS &= - \\frac{6}{5} S + \\left( [\\beta_1 T_1 + \\beta_2 T_2 + \\beta_4 T_4] \\Omega - \\Omega [\\beta_1 T_1 + \\beta_2 T_2 + \\beta_4 T_4] \\right) \\\\\n",
    "    &= - \\frac{6}{5} S + \\beta_1 (T_1 \\Omega - \\Omega T_1) + \\beta_2 (T_2 \\Omega - \\Omega T_2) + \\beta_4 (T_4 \\Omega - \\Omega T_4) \\\\\n",
    "    &= - \\frac{6}{5} S + \\beta_1 T_4 + \\beta_2 \\left([S^2 - \\frac{1}{3} II_S \\mathbf{I}] \\Omega - \\Omega [S^2 - \\frac{1}{3} II_S \\mathbf{I}]\\right) + \\beta_4 \\left([S \\Omega - \\Omega S] \\Omega - \\Omega [S \\Omega - \\Omega S] \\right) \\\\\n",
    "    &= - \\frac{6}{5} S + \\beta_1 T_4 + \\beta_2 (S^2 \\Omega - \\Omega S^2) + \\beta_4 (S \\Omega^2 - \\Omega S \\Omega - \\Omega S \\Omega + \\Omega^2 S)\n",
    "\\end{align}\n",
    "$$\n",
    "\n",
    "Now we need some of Pope's 1975 appendix A expressions to proceed:\n",
    "\n",
    "$$\n",
    "\\boxed{S^2 = \\frac{1}{2} II_S \\mathbf{I}  \\quad \\textrm{valid for 2D} }\n",
    "$$\n",
    "\n",
    "$$\n",
    "\\boxed{\\Omega^2 = \\frac{1}{2} II_\\Omega \\mathbf{I}  \\quad \\textrm{valid for 2D} }\n",
    "$$\n",
    "\n",
    "$$\n",
    "\\boxed{\\Omega S \\Omega = - \\frac{1}{2} S  II_\\Omega   \\quad \\textrm{valid for 2D} }\n",
    "$$\n",
    "\n",
    "Inserting these finally yields:\n",
    "\n",
    "$$\n",
    "\\begin{align}\n",
    "RHS &= - \\frac{6}{5} S + \\beta_1 T_4  + \\beta_4 \\left(2 S II_\\Omega \\right) \\\\\n",
    "&= - \\frac{6}{5} T_1 + \\beta_1 T_4  + \\beta_4 \\left(2 T_1 II_\\Omega \\right) \\\\\n",
    "&= \\left(- \\frac{6}{5} + 2 \\beta_4 II_\\Omega \\right) T_1 + 0 \\cdot T_2 + \\beta_1 T_4  \n",
    "\\end{align}\n",
    "$$\n",
    "\n",
    "Compare with LHS:\n",
    "\n",
    "$$\n",
    "LHS = N \\beta_1 T_1 + N \\beta_2 T_2 + N \\beta_4 T_4 ,\n",
    "$$\n",
    "\n",
    "to give the system of equations:\n",
    "\n",
    "$$\n",
    "N \\beta_1 = \\left(- \\frac{6}{5} + 2 \\beta_4 II_\\Omega \\right)\n",
    "$$\n",
    "\n",
    "$$\n",
    "N \\beta_2 = 0\n",
    "$$\n",
    "\n",
    "$$\n",
    "N \\beta_4 = \\beta_1\n",
    "$$\n",
    "\n",
    "\n",
    "$$\n",
    "\\Rightarrow \\beta_1 = - \\frac{6}{5} \\frac{N}{N^2 - 2 II_\\Omega} \\quad , \\quad \\beta_2 = 0 \\quad , \\quad \\beta_4 = - \\frac{6}{5} \\frac{1}{N^2 - 2 II_\\Omega} = \\beta_1/N \n",
    "$$\n",
    "\n",
    "We are done! Using the $\\beta$-coefficients we have an explicit equation for $a$!! Only thing missing is an expression for $N$; this can be achieved by using $P/\\varepsilon = - tr(aS)$. The analytic, closed expression is:\n",
    "\n",
    "<img src=\"N_2D_taulbee.png\"/>\n",
    "\n",
    "Here $c_1' = 9/4 ( c_1 - 1)$ and $c_1 = 1.8$.\n",
    "\n",
    "In summary the model is applied as:\n",
    "\n",
    "- From last iteration, we have $U$, $V$, $k$ and $\\varepsilon$ $\\rightarrow$ we can get the mean strain and rotation tensors, $S_{ij}$ and $\\Omega_{ij}$.\n",
    "- Calculate invariants, $II_S$ and $II_\\Omega$\n",
    "- Calculate $N$\n",
    "- Calculate $\\beta_1$ and $\\beta_4$\n",
    "- Calculate $a = \\beta_1 T_1 + \\beta_4 T_4$\n",
    "- Now we know the turbulence fluxes, which can be used to solve the mom'm equation.\n",
    "- Finally, the auxillary $k$ and $\\varepsilon$ equation are solved with the new momentum solution.\n",
    "\n",
    "Can also pose the model as the normal Boussinesq hypothesis with an \"effective\" $C_\\mu$ and an additional explicit term:\n",
    "\n",
    "$$\n",
    "\\overline{u_i u_j} = - 2 C_{\\mu,eff} k S_{ij} + \\frac{2}{3} k \\delta_{ij} + k a_{ij}^{(ex)}\n",
    "$$\n",
    "\n",
    "Here $S_{ij}$ is the dimensionless shear rate and \n",
    "\n",
    "\n",
    "$$\n",
    "C_{\\mu,eff} = - \\frac{1}{2} \\beta_1\n",
    "$$\n",
    "\n",
    "$$\n",
    "a^{(ex)} = \\beta_4 (S \\Omega - \\Omega S)\n",
    "$$\n",
    "\n",
    "\n"
   ]
  },
  {
   "cell_type": "markdown",
   "id": "0e1447e2",
   "metadata": {},
   "source": [
    "## App B: Numerical implementation of Aps+Lesch 3D tensor groups\n",
    "\n",
    "The 10 tensor groups of Aps+Lesch were shown in the start of the document. The strain and rotation tensors:\n",
    "\n",
    "$$\n",
    "S_{ij} = \\begin{bmatrix} S_{11} & S_{12} & S_{13} \\\\ S_{12} & S_{22} & S_{23} \\\\ S_{13} & S_{23} & S_{33} \\end{bmatrix}  \\quad , \\quad\n",
    "\\Omega_{ij} = \\begin{bmatrix} 0 & \\Omega_{12} & \\Omega_{13} \\\\ -\\Omega_{12} & 0 & \\Omega_{23} \\\\ -\\Omega_{13} & -\\Omega_{23} & 0 \\end{bmatrix} \n",
    "$$\n"
   ]
  },
  {
   "cell_type": "code",
   "execution_count": 1,
   "id": "2b1cfc16",
   "metadata": {},
   "outputs": [
    {
     "data": {
      "text/latex": [
       "\\[S_{ij} = \\left[\\begin{matrix}s_{11} & s_{12} & s_{13}\\\\s_{12} & s_{22} & s_{23}\\\\s_{13} & s_{23} & s_{33}\\end{matrix}\\right]\\]"
      ]
     },
     "metadata": {},
     "output_type": "display_data"
    },
    {
     "data": {
      "text/latex": [
       "\\[\\Omega_{ij} = \\left[\\begin{matrix}0 & o_{12} & o_{13}\\\\- o_{12} & 0 & o_{23}\\\\- o_{13} & - o_{23} & 0\\end{matrix}\\right]\\]"
      ]
     },
     "metadata": {},
     "output_type": "display_data"
    },
    {
     "data": {
      "text/latex": [
       "\\[S^2 = \\left[\\begin{matrix}s_{11}^{2} + s_{12}^{2} + s_{13}^{2} & s_{11} s_{12} + s_{12} s_{22} + s_{13} s_{23} & s_{11} s_{13} + s_{12} s_{23} + s_{13} s_{33}\\\\s_{11} s_{12} + s_{12} s_{22} + s_{13} s_{23} & s_{12}^{2} + s_{22}^{2} + s_{23}^{2} & s_{12} s_{13} + s_{22} s_{23} + s_{23} s_{33}\\\\s_{11} s_{13} + s_{12} s_{23} + s_{13} s_{33} & s_{12} s_{13} + s_{22} s_{23} + s_{23} s_{33} & s_{13}^{2} + s_{23}^{2} + s_{33}^{2}\\end{matrix}\\right]\\]"
      ]
     },
     "metadata": {},
     "output_type": "display_data"
    },
    {
     "data": {
      "text/latex": [
       "\\[S^2 = \\left[\\begin{matrix}ss_{11} & ss_{12} & ss_{13}\\\\ss_{12} & ss_{22} & ss_{23}\\\\ss_{13} & ss_{23} & ss_{33}\\end{matrix}\\right]\\]"
      ]
     },
     "metadata": {},
     "output_type": "display_data"
    },
    {
     "data": {
      "text/latex": [
       "\\[\\Omega^2 = \\left[\\begin{matrix}- o_{12}^{2} - o_{13}^{2} & - o_{13} o_{23} & o_{12} o_{23}\\\\- o_{13} o_{23} & - o_{12}^{2} - o_{23}^{2} & - o_{12} o_{13}\\\\o_{12} o_{23} & - o_{12} o_{13} & - o_{13}^{2} - o_{23}^{2}\\end{matrix}\\right]\\]"
      ]
     },
     "metadata": {},
     "output_type": "display_data"
    },
    {
     "data": {
      "text/latex": [
       "\\[\\Omega^2 = \\left[\\begin{matrix}oo_{11} & oo_{12} & oo_{13}\\\\oo_{12} & oo_{22} & oo_{23}\\\\oo_{13} & oo_{23} & oo_{33}\\end{matrix}\\right]\\]"
      ]
     },
     "metadata": {},
     "output_type": "display_data"
    },
    {
     "data": {
      "text/latex": [
       "\\[\\Omega S = \\left[\\begin{matrix}o_{12} s_{12} + o_{13} s_{13} & o_{12} s_{22} + o_{13} s_{23} & o_{12} s_{23} + o_{13} s_{33}\\\\- o_{12} s_{11} + o_{23} s_{13} & - o_{12} s_{12} + o_{23} s_{23} & - o_{12} s_{13} + o_{23} s_{33}\\\\- o_{13} s_{11} - o_{23} s_{12} & - o_{13} s_{12} - o_{23} s_{22} & - o_{13} s_{13} - o_{23} s_{23}\\end{matrix}\\right]\\]"
      ]
     },
     "metadata": {},
     "output_type": "display_data"
    },
    {
     "data": {
      "text/latex": [
       "\\[\\Omega S = \\left[\\begin{matrix}os_{11} & os_{12} & os_{13}\\\\os_{21} & os_{22} & os_{23}\\\\os_{31} & os_{32} & os_{33}\\end{matrix}\\right]\\]"
      ]
     },
     "metadata": {},
     "output_type": "display_data"
    },
    {
     "data": {
      "text/latex": [
       "\\[\\Omega S^2 = \\left[\\begin{matrix}os_{11} s_{11} + os_{12} s_{12} + os_{13} s_{13} & os_{11} s_{12} + os_{12} s_{22} + os_{13} s_{23} & os_{11} s_{13} + os_{12} s_{23} + os_{13} s_{33}\\\\os_{21} s_{11} + os_{22} s_{12} + os_{23} s_{13} & os_{21} s_{12} + os_{22} s_{22} + os_{23} s_{23} & os_{21} s_{13} + os_{22} s_{23} + os_{23} s_{33}\\\\os_{31} s_{11} + os_{32} s_{12} + os_{33} s_{13} & os_{31} s_{12} + os_{32} s_{22} + os_{33} s_{23} & os_{31} s_{13} + os_{32} s_{23} + os_{33} s_{33}\\end{matrix}\\right]\\]"
      ]
     },
     "metadata": {},
     "output_type": "display_data"
    },
    {
     "data": {
      "text/latex": [
       "\\[T_2 = \\Omega S - \\Omega S = \\left[\\begin{matrix}2 o_{12} s_{12} + 2 o_{13} s_{13} & - o_{12} s_{11} + o_{12} s_{22} + o_{13} s_{23} + o_{23} s_{13} & o_{12} s_{23} - o_{13} s_{11} + o_{13} s_{33} - o_{23} s_{12}\\\\- o_{12} s_{11} + o_{12} s_{22} + o_{13} s_{23} + o_{23} s_{13} & - 2 o_{12} s_{12} + 2 o_{23} s_{23} & - o_{12} s_{13} - o_{13} s_{12} - o_{23} s_{22} + o_{23} s_{33}\\\\o_{12} s_{23} - o_{13} s_{11} + o_{13} s_{33} - o_{23} s_{12} & - o_{12} s_{13} - o_{13} s_{12} - o_{23} s_{22} + o_{23} s_{33} & - 2 o_{13} s_{13} - 2 o_{23} s_{23}\\end{matrix}\\right]\\]"
      ]
     },
     "metadata": {},
     "output_type": "display_data"
    },
    {
     "data": {
      "text/latex": [
       "\\[T_3 = S^2 - \\frac{1}{3} II_S I = \\left[\\begin{matrix}\\frac{2 s_{11}^{2}}{3} + \\frac{s_{12}^{2}}{3} + \\frac{s_{13}^{2}}{3} - \\frac{s_{22}^{2}}{3} - \\frac{2 s_{23}^{2}}{3} - \\frac{s_{33}^{2}}{3} & s_{11} s_{12} + s_{12} s_{22} + s_{13} s_{23} & s_{11} s_{13} + s_{12} s_{23} + s_{13} s_{33}\\\\s_{11} s_{12} + s_{12} s_{22} + s_{13} s_{23} & - \\frac{s_{11}^{2}}{3} + \\frac{s_{12}^{2}}{3} - \\frac{2 s_{13}^{2}}{3} + \\frac{2 s_{22}^{2}}{3} + \\frac{s_{23}^{2}}{3} - \\frac{s_{33}^{2}}{3} & s_{12} s_{13} + s_{22} s_{23} + s_{23} s_{33}\\\\s_{11} s_{13} + s_{12} s_{23} + s_{13} s_{33} & s_{12} s_{13} + s_{22} s_{23} + s_{23} s_{33} & - \\frac{s_{11}^{2}}{3} - \\frac{2 s_{12}^{2}}{3} + \\frac{s_{13}^{2}}{3} - \\frac{s_{22}^{2}}{3} + \\frac{s_{23}^{2}}{3} + \\frac{2 s_{33}^{2}}{3}\\end{matrix}\\right]\\]"
      ]
     },
     "metadata": {},
     "output_type": "display_data"
    },
    {
     "data": {
      "text/latex": [
       "\\[T_4 = \\Omega^2 - \\frac{1}{3} II_\\Omega I = \\left[\\begin{matrix}- \\frac{o_{12}^{2}}{3} - \\frac{o_{13}^{2}}{3} + \\frac{2 o_{23}^{2}}{3} & - o_{13} o_{23} & o_{12} o_{23}\\\\- o_{13} o_{23} & - \\frac{o_{12}^{2}}{3} + \\frac{2 o_{13}^{2}}{3} - \\frac{o_{23}^{2}}{3} & - o_{12} o_{13}\\\\o_{12} o_{23} & - o_{12} o_{13} & \\frac{2 o_{12}^{2}}{3} - \\frac{o_{13}^{2}}{3} - \\frac{o_{23}^{2}}{3}\\end{matrix}\\right]\\]"
      ]
     },
     "metadata": {},
     "output_type": "display_data"
    },
    {
     "data": {
      "text/latex": [
       "\\[T_5 = \\Omega S^2 - S^2 \\Omega = \\left[\\begin{matrix}2 o_{12} ss_{12} + 2 o_{13} ss_{13} & - o_{12} ss_{11} + o_{12} ss_{22} + o_{13} ss_{23} + o_{23} ss_{13} & o_{12} ss_{23} - o_{13} ss_{11} + o_{13} ss_{33} - o_{23} ss_{12}\\\\- o_{12} ss_{11} + o_{12} ss_{22} + o_{13} ss_{23} + o_{23} ss_{13} & - 2 o_{12} ss_{12} + 2 o_{23} ss_{23} & - o_{12} ss_{13} - o_{13} ss_{12} - o_{23} ss_{22} + o_{23} ss_{33}\\\\o_{12} ss_{23} - o_{13} ss_{11} + o_{13} ss_{33} - o_{23} ss_{12} & - o_{12} ss_{13} - o_{13} ss_{12} - o_{23} ss_{22} + o_{23} ss_{33} & - 2 o_{13} ss_{13} - 2 o_{23} ss_{23}\\end{matrix}\\right]\\]"
      ]
     },
     "metadata": {},
     "output_type": "display_data"
    },
    {
     "data": {
      "text/latex": [
       "\\[T_6 - II_\\Omega S - 2/3 IV I = S \\Omega^2 - \\Omega^2 S = \\left[\\begin{matrix}2 oo_{11} s_{11} + 2 oo_{12} s_{12} + 2 oo_{13} s_{13} & oo_{11} s_{12} + oo_{12} s_{11} + oo_{12} s_{22} + oo_{13} s_{23} + oo_{22} s_{12} + oo_{23} s_{13} & oo_{11} s_{13} + oo_{12} s_{23} + oo_{13} s_{11} + oo_{13} s_{33} + oo_{23} s_{12} + oo_{33} s_{13}\\\\oo_{11} s_{12} + oo_{12} s_{11} + oo_{12} s_{22} + oo_{13} s_{23} + oo_{22} s_{12} + oo_{23} s_{13} & 2 oo_{12} s_{12} + 2 oo_{22} s_{22} + 2 oo_{23} s_{23} & oo_{12} s_{13} + oo_{13} s_{12} + oo_{22} s_{23} + oo_{23} s_{22} + oo_{23} s_{33} + oo_{33} s_{23}\\\\oo_{11} s_{13} + oo_{12} s_{23} + oo_{13} s_{11} + oo_{13} s_{33} + oo_{23} s_{12} + oo_{33} s_{13} & oo_{12} s_{13} + oo_{13} s_{12} + oo_{22} s_{23} + oo_{23} s_{22} + oo_{23} s_{33} + oo_{33} s_{23} & 2 oo_{13} s_{13} + 2 oo_{23} s_{23} + 2 oo_{33} s_{33}\\end{matrix}\\right]\\]"
      ]
     },
     "metadata": {},
     "output_type": "display_data"
    }
   ],
   "source": [
    "import sympy as sym\n",
    "# Method to display results like \"idx = symObj\"\n",
    "#https://stackoverflow.com/questions/46993589/modify-jupyter-notebooks-ipython-kernel-latex-rendering-of-sympy-objects\n",
    "from sympy import latex\n",
    "from IPython.display import display_latex\n",
    "def disp(idx, symObj):\n",
    "    eqn = '\\\\[' + idx + ' = ' + latex(symObj) + '\\\\]'\n",
    "    display_latex(eqn,raw=True)\n",
    "    return\n",
    "\n",
    "# All tensor groups are symmetric, so we only need upper part of matrices\n",
    "s11, s22, s33, s12, s13, s23, o12, o13, o23 = sym.symbols('s11, s22, s33, s12, s13, s23, o12, o13, o23')\n",
    "\n",
    "# Normalized strain tensor (dimensionless)\n",
    "s = sym.Matrix([[s11, s12, s13],[s12, s22, s23],[s13, s23, s33]])\n",
    "\n",
    "# Normalized rotation tensor  (dimensionless)\n",
    "o = sym.Matrix([[0, o12, o13],[-o12, 0, o23],[-o13, -o23, 0]])\n",
    "\n",
    "# Define symbolic s^2 to help simplify later expressions\n",
    "ss11, ss22, ss33, ss12, ss13, ss23 = sym.symbols('ss11, ss22, ss33, ss12, ss13, ss23')\n",
    "ss = sym.Matrix([[ss11, ss12, ss13],[ss12, ss22, ss23],[ss13, ss23, ss33]])\n",
    "\n",
    "# Define symbolic o^2 to help simplify later expressions\n",
    "oo11, oo22, oo33, oo12, oo13, oo23 = sym.symbols('oo11, oo22, oo33, oo12, oo13, oo23')\n",
    "oo = sym.Matrix([[oo11, oo12, oo13],[oo12, oo22, oo23],[oo13, oo23, oo33]])\n",
    "\n",
    "# Define symbolic os to help simplify later expressions. Note O.S is NOT symmetric\n",
    "os11, os12, os13, os21, os22, os23, os31, os32, os33 = sym.symbols('os11, os12, os13, os21, os22, os23, os31, os32, os33')\n",
    "os = sym.Matrix([[os11, os12, os13],[os21, os22, os23],[os31, os32, os33]])\n",
    "\n",
    "# T2 = os-so:\n",
    "T2 = o*s-s*o\n",
    "\n",
    "# T3 = s^2-1/3tr(s^2)I:\n",
    "T3 = s*s-sym.Rational(1,3)*sym.trace(s*s)*sym.eye(3)\n",
    "\n",
    "# T4 = o^2-1/3tr(o^2)I:\n",
    "T4 = o*o-sym.Rational(1,3)*sym.trace(o*o)*sym.eye(3)\n",
    "\n",
    "# T5 = o*s^2 - s^2*o \n",
    "T5 = o*ss - ss*o\n",
    "\n",
    "# T6-2/3*IV*I-tr(oo)*s = s*o^2 + o^2*s\n",
    "T6min = s*oo + oo*s\n",
    "\n",
    "disp('S_{ij}',s)\n",
    "disp('\\Omega_{ij}',o)\n",
    "disp('S^2',s*s)\n",
    "disp('S^2',ss)\n",
    "disp('\\Omega^2',o*o)\n",
    "disp('\\Omega^2',oo)\n",
    "disp('\\Omega S',o*s)\n",
    "disp('\\Omega S',os)\n",
    "disp('\\Omega S^2',os*s)\n",
    "disp('T_2 = \\Omega S - \\Omega S',T2)\n",
    "disp(r'T_3 = S^2 - \\frac{1}{3} II_S I',T3)\n",
    "disp(r'T_4 = \\Omega^2 - \\frac{1}{3} II_\\Omega I',T4)\n",
    "disp(r'T_5 = \\Omega S^2 - S^2 \\Omega',T5)\n",
    "disp(r'T_6 - II_\\Omega S - 2/3 IV I = S \\Omega^2 - \\Omega^2 S',T6min)"
   ]
  },
  {
   "cell_type": "code",
   "execution_count": 2,
   "id": "06b9ef1e",
   "metadata": {},
   "outputs": [
    {
     "data": {
      "text/plain": [
       "array([[0., 0., 0.],\n",
       "       [0., 0., 0.],\n",
       "       [0., 0., 0.]])"
      ]
     },
     "execution_count": 2,
     "metadata": {},
     "output_type": "execute_result"
    }
   ],
   "source": [
    "# numpy test of T6min for parallel flow\n",
    "sigma = 2*2.026\n",
    "import numpy as np\n",
    "A = np.array([[0, 0, 0.5*sigma],[0, 0, 0], [0.5*sigma, 0, 0]])\n",
    "B = np.array([[0, 0, 0.5*sigma],[0, 0, 0], [-0.5*sigma, 0, 0]])\n",
    "np.matmul(A,np.matmul(B,B)) - np.matmul(B,np.matmul(B,A))"
   ]
  },
  {
   "cell_type": "markdown",
   "id": "12d3ecd7",
   "metadata": {},
   "source": [
    "**The last groups are quite long, so use tensor mathematics to proof relations**\n",
    "\n",
    "#### Group $T_7$\n",
    "\n",
    "$$\n",
    "T^{(7)} = \\Omega S \\Omega^2 - \\Omega^2 S \\Omega\n",
    "$$\n",
    "\n",
    "The second term can be re-phased:\n",
    "\n",
    "$$\n",
    "\\Omega^2 S \\Omega = \\Omega_{ik} \\Omega_{km} S_{mn} \\Omega_{nj} = - \\Omega_{jn} S_{nm} \\Omega_{mk}  \\Omega_{ki} = - (\\Omega S \\Omega^2)^T \n",
    "$$\n",
    "\n",
    "Hence,\n",
    "\n",
    "$$\n",
    "T^{(7)}_{ij} = (\\Omega S \\Omega^2)_{ij} + (\\Omega S \\Omega^2)_{ji} \n",
    "$$\n",
    "\n",
    "The transpose does nothing to the diagonal, so the diagonal terms are simply: \n",
    "\n",
    "$$T^{(7)}_{\\alpha\\alpha} = 2(\\Omega S \\Omega^2)_{\\alpha\\alpha} = 2(\\Omega S)_{\\alpha i} (\\Omega^2)_{i \\alpha} = 2(\\Omega S)_{\\alpha i} (\\Omega^2)_{\\alpha i}$$\n",
    "\n",
    "The off-diagonal terms can be calculated using the two matrices, $\\Omega S$ and $\\Omega^2$: \n",
    "\n",
    "$$T^{(7)}_{\\alpha\\beta} = (\\Omega S \\Omega^2)_{\\alpha\\beta} + (\\Omega S \\Omega^2)_{\\beta\\alpha}  = (\\Omega S)_{\\alpha i} (\\Omega^2)_{i \\beta } + (\\Omega S)_{\\beta i} (\\Omega^2)_{i \\alpha } = (\\Omega S)_{\\alpha i} (\\Omega^2)_{\\beta i } + (\\Omega S)_{\\beta i} (\\Omega^2)_{\\alpha i}  $$"
   ]
  },
  {
   "cell_type": "markdown",
   "id": "eacdc8c5",
   "metadata": {},
   "source": [
    "#### Group $T_8$\n",
    "\n",
    "\n",
    "$$\n",
    "T^{(8)} = S \\Omega  S^2 - S^2 \\Omega S \n",
    "$$\n",
    "\n",
    "The first term can be re-phased:\n",
    "\n",
    "$$\n",
    "S \\Omega  S^2 = - (S^2 \\Omega S)^T \n",
    "$$\n",
    "\n",
    "Hence,\n",
    "\n",
    "$$\n",
    "T^{(8)}_{ij} = - ( S^2 \\Omega S)_{ji} - (S^2 \\Omega S)_{ij} \n",
    "$$\n",
    "\n",
    "The transpose does nothing to the diagonal, so the diagonal terms are simply: \n",
    "\n",
    "$$T^{(8)}_{\\alpha\\alpha} = - 2( S^2 \\Omega S)_{\\alpha\\alpha} = - 2(S^2)_{\\alpha i} (\\Omega S)_{i \\alpha} $$\n",
    "\n",
    "The off-diagonal terms can be calculated using the two matrices, $\\Omega S$ and $S^2$: \n",
    "\n",
    "$$T^{(8)}_{\\alpha\\beta} =  - (S^2 \\Omega S)_{\\beta\\alpha} -(S^2 \\Omega S)_{\\alpha\\beta} =  - (S^2)_{\\beta i} (\\Omega S)_{i \\alpha }  - (S^2)_{\\alpha i} (\\Omega S)_{i \\beta }  $$\n"
   ]
  },
  {
   "cell_type": "markdown",
   "id": "4d5a9ce7",
   "metadata": {},
   "source": [
    "#### Group $T_9$\n",
    "\n",
    "\n",
    "$$\n",
    "T^{(9)} = S^2 \\Omega^2 + \\Omega^2 S^2 - \\frac{2}{3} V \\mathbf{I}\n",
    "$$\n",
    "\n",
    "The first term can be re-phased:\n",
    "\n",
    "$$\n",
    "S^2 \\Omega^2 = (\\Omega^2 S^2 )^T \n",
    "$$\n",
    "\n",
    "Hence,\n",
    "\n",
    "$$\n",
    "T^{(9)}_{ij} + \\frac{2}{3} V \\mathbf{I} = ( \\Omega^2 S^2)_{ji} + (\\Omega^2 S^2)_{ij} \n",
    "$$\n",
    "\n",
    "The transpose does nothing to the diagonal, so the diagonal terms are simply: \n",
    "\n",
    "$$T^{(9)}_{\\alpha\\alpha} = 2( \\Omega^2 S^2 )_{\\alpha\\alpha} =  2(\\Omega^2)_{\\alpha i} (S^2)_{i \\alpha} $$\n",
    "\n",
    "The off-diagonal terms can be calculated using the two matrices, $\\Omega^2$ and $S^2$: \n",
    "\n",
    "$$T^{(9)}_{\\alpha\\beta} =   (\\Omega^2 S^2)_{\\beta\\alpha}  + (\\Omega^2 S^2)_{\\alpha\\beta} =   (\\Omega^2)_{\\beta i} (S^2)_{i \\alpha }  + (\\Omega^2)_{\\alpha i} (S^2)_{i \\beta }  $$\n"
   ]
  },
  {
   "cell_type": "markdown",
   "id": "740d8e51",
   "metadata": {},
   "source": [
    "#### Group $T_{10}$\n",
    "\n",
    "$$\n",
    "T^{(10)} = \\Omega S^2 \\Omega^2 - \\Omega^2 S^2 \\Omega\n",
    "$$\n",
    "\n",
    "The second term can be re-phased:\n",
    "\n",
    "$$\n",
    "\\Omega^2 S^2 \\Omega = - (\\Omega S^2 \\Omega^2)^T \n",
    "$$\n",
    "\n",
    "Hence,\n",
    "\n",
    "$$\n",
    "T^{(10)}_{ij} = (\\Omega S^2 \\Omega^2)_{ij} + (\\Omega S^2 \\Omega^2)_{ji} \n",
    "$$\n",
    "\n",
    "The transpose does nothing to the diagonal, so the diagonal terms are simply: \n",
    "\n",
    "$$\n",
    "\\begin{align}\n",
    "T^{(10)}_{\\alpha\\alpha} &= 2(\\Omega S^2 \\Omega^2)_{\\alpha\\alpha} \\\\\n",
    "                        &= 2(\\Omega S^2)_{\\alpha i} (\\Omega^2)_{i \\alpha} \\\\\n",
    "                        &= 2(\\Omega S^2)_{\\alpha i} (\\Omega^2)_{\\alpha i}\n",
    "\\end{align}\n",
    "$$\n",
    "\n",
    "The off-diagonal terms can be calculated using the two matrices, $\\Omega S^2$ and $\\Omega^2$: \n",
    "\n",
    "$$\n",
    "\\begin{align}\n",
    "T^{(10)}_{\\alpha\\beta} &= (\\Omega S \\Omega^2)_{\\alpha\\beta} + (\\Omega S \\Omega^2)_{\\beta\\alpha} \\\\\n",
    "                       &= (\\Omega S^2)_{\\alpha i} (\\Omega^2)_{i \\beta } + (\\Omega S^2)_{\\beta i} (\\Omega^2)_{i \\alpha }\\\\\n",
    "                       &= (\\Omega S^2)_{\\alpha i} (\\Omega^2)_{\\beta i } + (\\Omega S^2)_{\\beta i} (\\Omega^2)_{\\alpha i}  \n",
    "\\end{align}\n",
    "$$"
   ]
  },
  {
   "cell_type": "code",
   "execution_count": 3,
   "id": "60d73ddd",
   "metadata": {},
   "outputs": [
    {
     "data": {
      "text/latex": [
       "\\[A^2 B A + (A B A^2)^T = \\left[\\begin{matrix}4.2632564145606 \\cdot 10^{-14} & 0 & 0\\\\1.13686837721616 \\cdot 10^{-13} & 0 & -2.27373675443232 \\cdot 10^{-13}\\\\0 & 0 & 0\\end{matrix}\\right]\\]"
      ]
     },
     "metadata": {},
     "output_type": "display_data"
    },
    {
     "data": {
      "text/latex": [
       "\\[S^3 = \\left[\\begin{matrix}s_{11} ss_{11} + s_{12} ss_{12} + s_{13} ss_{13} & s_{11} ss_{12} + s_{12} ss_{22} + s_{13} ss_{23} & s_{11} ss_{13} + s_{12} ss_{23} + s_{13} ss_{33}\\\\s_{12} ss_{11} + s_{22} ss_{12} + s_{23} ss_{13} & s_{12} ss_{12} + s_{22} ss_{22} + s_{23} ss_{23} & s_{12} ss_{13} + s_{22} ss_{23} + s_{23} ss_{33}\\\\s_{13} ss_{11} + s_{23} ss_{12} + s_{33} ss_{13} & s_{13} ss_{12} + s_{23} ss_{22} + s_{33} ss_{23} & s_{13} ss_{13} + s_{23} ss_{23} + s_{33} ss_{33}\\end{matrix}\\right]\\]"
      ]
     },
     "metadata": {},
     "output_type": "display_data"
    },
    {
     "data": {
      "text/latex": [
       "\\[\\Omega S^2 = \\left[\\begin{matrix}os_{11} s_{11} + os_{12} s_{12} + os_{13} s_{13} & os_{11} s_{12} + os_{12} s_{22} + os_{13} s_{23} & os_{11} s_{13} + os_{12} s_{23} + os_{13} s_{33}\\\\os_{21} s_{11} + os_{22} s_{12} + os_{23} s_{13} & os_{21} s_{12} + os_{22} s_{22} + os_{23} s_{23} & os_{21} s_{13} + os_{22} s_{23} + os_{23} s_{33}\\\\os_{31} s_{11} + os_{32} s_{12} + os_{33} s_{13} & os_{31} s_{12} + os_{32} s_{22} + os_{33} s_{23} & os_{31} s_{13} + os_{32} s_{23} + os_{33} s_{33}\\end{matrix}\\right]\\]"
      ]
     },
     "metadata": {},
     "output_type": "display_data"
    }
   ],
   "source": [
    "# Here is a numerical proof of the T7 group rule:\n",
    "# T7= o*s*o^2 - o^2*s*o\n",
    "A = sym.Matrix([[4, 2, 1.23],[2, 3.3, 5.7],[1.23, 5.7, -7.3]])\n",
    "B = sym.Matrix([[0, 2.5, 1.66],[-2.5, 0, 4.7],[-1.66, -4.7, 0]])\n",
    "disp('A^2 B A + (A B A^2)^T',A*A*B*A  + (A*B*A*A).T)\n",
    "# This shows that A*A*B*A = -(A*B*A*A).T\n",
    "\n",
    "\n",
    "## Invariant 3 = tr(S.S.S), which can be calculated from S^3.\n",
    "disp('S^3',s*ss)\n",
    "\n",
    "# The helper variable for calculating T10\n",
    "disp('\\Omega S^2',os*s)"
   ]
  },
  {
   "cell_type": "markdown",
   "id": "539b4e01",
   "metadata": {},
   "source": [
    "# App c: Parallel flow"
   ]
  },
  {
   "cell_type": "code",
   "execution_count": 4,
   "id": "0b9beb77",
   "metadata": {},
   "outputs": [
    {
     "data": {
      "text/latex": [
       "\\[S_{ijPar} = \\left[\\begin{matrix}0 & 0 & \\frac{\\sigma}{2}\\\\0 & 0 & 0\\\\\\frac{\\sigma}{2} & 0 & 0\\end{matrix}\\right]\\]"
      ]
     },
     "metadata": {},
     "output_type": "display_data"
    },
    {
     "data": {
      "text/latex": [
       "\\[\\Omega_{ijPar} = \\left[\\begin{matrix}0 & 0 & \\frac{\\sigma}{2}\\\\0 & 0 & 0\\\\- \\frac{\\sigma}{2} & 0 & 0\\end{matrix}\\right]\\]"
      ]
     },
     "metadata": {},
     "output_type": "display_data"
    }
   ],
   "source": [
    "sig = sym.symbols('\\sigma')\n",
    "S = sym.Matrix([[0, 0, sym.Rational(1,2)*sig],[0, 0, 0],[sym.Rational(1,2)*sig, 0, 0]])\n",
    "O = sym.Matrix([[0, 0, sym.Rational(1,2)*sig],[0, 0, 0],[-sym.Rational(1,2)*sig, 0, 0]])\n",
    "disp('S_{ijPar}',S)\n",
    "disp('\\Omega_{ijPar}',O)"
   ]
  },
  {
   "cell_type": "markdown",
   "id": "fd79c5a2",
   "metadata": {},
   "source": [
    "### Invariants"
   ]
  },
  {
   "cell_type": "code",
   "execution_count": 12,
   "id": "e4db12df",
   "metadata": {},
   "outputs": [
    {
     "data": {
      "text/latex": [
       "\\[II_S = \\frac{\\sigma^{2}}{2}\\]"
      ]
     },
     "metadata": {},
     "output_type": "display_data"
    },
    {
     "data": {
      "text/latex": [
       "\\[II_\\Omega = - \\frac{\\sigma^{2}}{2}\\]"
      ]
     },
     "metadata": {},
     "output_type": "display_data"
    },
    {
     "data": {
      "text/latex": [
       "\\[III = 0\\]"
      ]
     },
     "metadata": {},
     "output_type": "display_data"
    },
    {
     "data": {
      "text/latex": [
       "\\[IV = 0\\]"
      ]
     },
     "metadata": {},
     "output_type": "display_data"
    },
    {
     "data": {
      "text/latex": [
       "\\[V = - \\frac{\\sigma^{4}}{8}\\]"
      ]
     },
     "metadata": {},
     "output_type": "display_data"
    }
   ],
   "source": [
    "def sym_invariants(S,O):\n",
    "    eta1 = sym.trace(S*S)\n",
    "    eta2 = sym.trace(O*O)\n",
    "    eta3 = sym.trace(S*S*S)\n",
    "    eta4 = sym.trace(S*O*O)\n",
    "    eta5 = sym.trace(S*S*O*O)\n",
    "    disp('II_S',eta1)\n",
    "    disp('II_\\Omega',eta2)\n",
    "    disp('III',eta3)\n",
    "    disp('IV',eta4)\n",
    "    disp('V',eta5)\n",
    "    \n",
    "sym_invariants(S,O)"
   ]
  },
  {
   "cell_type": "markdown",
   "id": "7fbb1625",
   "metadata": {},
   "source": [
    "### Tensors (Aps+Lesch groups)"
   ]
  },
  {
   "cell_type": "code",
   "execution_count": 21,
   "id": "6d00990e",
   "metadata": {},
   "outputs": [
    {
     "data": {
      "text/latex": [
       "\\[T_1 = \\left[\\begin{matrix}0 & 0 & \\frac{\\sigma}{2}\\\\0 & 0 & 0\\\\\\frac{\\sigma}{2} & 0 & 0\\end{matrix}\\right]\\]"
      ]
     },
     "metadata": {},
     "output_type": "display_data"
    },
    {
     "data": {
      "text/latex": [
       "\\[T_2 = \\left[\\begin{matrix}\\frac{\\sigma^{2}}{2} & 0 & 0\\\\0 & 0 & 0\\\\0 & 0 & - \\frac{\\sigma^{2}}{2}\\end{matrix}\\right]\\]"
      ]
     },
     "metadata": {},
     "output_type": "display_data"
    },
    {
     "data": {
      "text/latex": [
       "\\[T_3 = \\left[\\begin{matrix}\\frac{\\sigma^{2}}{12} & 0 & 0\\\\0 & - \\frac{\\sigma^{2}}{6} & 0\\\\0 & 0 & \\frac{\\sigma^{2}}{12}\\end{matrix}\\right]\\]"
      ]
     },
     "metadata": {},
     "output_type": "display_data"
    },
    {
     "data": {
      "text/latex": [
       "\\[T_4 = \\left[\\begin{matrix}- \\frac{\\sigma^{2}}{12} & 0 & 0\\\\0 & \\frac{\\sigma^{2}}{6} & 0\\\\0 & 0 & - \\frac{\\sigma^{2}}{12}\\end{matrix}\\right]\\]"
      ]
     },
     "metadata": {},
     "output_type": "display_data"
    },
    {
     "data": {
      "text/latex": [
       "\\[T_5 = \\left[\\begin{matrix}0 & 0 & 0\\\\0 & 0 & 0\\\\0 & 0 & 0\\end{matrix}\\right]\\]"
      ]
     },
     "metadata": {},
     "output_type": "display_data"
    },
    {
     "data": {
      "text/latex": [
       "\\[T_6 = \\left[\\begin{matrix}0 & 0 & 0\\\\0 & 0 & 0\\\\0 & 0 & 0\\end{matrix}\\right]\\]"
      ]
     },
     "metadata": {},
     "output_type": "display_data"
    },
    {
     "data": {
      "text/latex": [
       "\\[T_7 = \\left[\\begin{matrix}- \\frac{\\sigma^{4}}{8} & 0 & 0\\\\0 & 0 & 0\\\\0 & 0 & \\frac{\\sigma^{4}}{8}\\end{matrix}\\right]\\]"
      ]
     },
     "metadata": {},
     "output_type": "display_data"
    },
    {
     "data": {
      "text/latex": [
       "\\[T_8 = \\left[\\begin{matrix}- \\frac{\\sigma^{4}}{8} & 0 & 0\\\\0 & 0 & 0\\\\0 & 0 & \\frac{\\sigma^{4}}{8}\\end{matrix}\\right]\\]"
      ]
     },
     "metadata": {},
     "output_type": "display_data"
    },
    {
     "data": {
      "text/latex": [
       "\\[T_9 = \\left[\\begin{matrix}- \\frac{\\sigma^{4}}{24} & 0 & 0\\\\0 & \\frac{\\sigma^{4}}{12} & 0\\\\0 & 0 & - \\frac{\\sigma^{4}}{24}\\end{matrix}\\right]\\]"
      ]
     },
     "metadata": {},
     "output_type": "display_data"
    },
    {
     "data": {
      "text/latex": [
       "\\[T_{10} = \\left[\\begin{matrix}0 & 0 & 0\\\\0 & 0 & 0\\\\0 & 0 & 0\\end{matrix}\\right]\\]"
      ]
     },
     "metadata": {},
     "output_type": "display_data"
    }
   ],
   "source": [
    "def sym_tensors(S,O):\n",
    "    '''\n",
    "    Calculate tensors of Apsley+Leschziner symbolically\n",
    "    '''\n",
    "    eta2 = sym.trace(O*O)\n",
    "    eta4 = sym.trace(S*O*O)\n",
    "    eta5 = sym.trace(S*S*O*O)\n",
    "    T1 = S\n",
    "    T2 = O*S-S*O\n",
    "    T3 = S**2 - sym.Rational(1,3)*sym.trace(S**2)*sym.eye(3)\n",
    "    T4 = O**2 - sym.Rational(1,3)*sym.trace(O**2)*sym.eye(3)\n",
    "    T5 = O*S*S - S*S*O\n",
    "    T6 = S*O*O + O*O*S - eta2*S - sym.Rational(2,3)*eta4*sym.eye(3)\n",
    "    T7 = O*S*O*O - O*O*S*O\n",
    "    T8 = S*O*S*S - S*S*O*S\n",
    "    T9 = O*O*S*S + S*S*O*O - sym.Rational(2,3)*eta5*sym.eye(3)\n",
    "    T10 = O*S*S*O*O - O*O*S*S*O\n",
    "    # Use simplify, because standard sympy doesn't cancel some terms..\n",
    "    disp('T_1',T1)\n",
    "    disp('T_2',T2)\n",
    "    disp('T_3',T3)\n",
    "    disp('T_4',T4)\n",
    "    disp('T_5',sym.simplify(T5))\n",
    "    disp('T_6',sym.simplify(T6))\n",
    "    disp('T_7',sym.simplify(T7))\n",
    "    disp('T_8',sym.simplify(T8))\n",
    "    disp('T_9',sym.simplify(T9))\n",
    "    disp('T_{10}',sym.simplify(T10))\n",
    "    \n",
    "sym_tensors(S,O)"
   ]
  },
  {
   "cell_type": "markdown",
   "id": "8a4edde1",
   "metadata": {},
   "source": [
    "It can be noted that:\n",
    "\n",
    "$$\n",
    "\\begin{align}\n",
    "T_4 &= -T_3 \\\\\n",
    "T_7 &= - \\frac{\\sigma^2}{4} T_2 = \\frac{1}{2} II_\\Omega T_2  \\\\\n",
    "T_8 &= - \\frac{\\sigma^2}{4} T_2 = \\frac{1}{2} II_\\Omega T_2\\\\\n",
    "T_9 &= - \\frac{\\sigma^2}{2} T_3 = II_\\Omega T_3  \\\\\n",
    "\\end{align}\n",
    "$$\n",
    "\n",
    "Hence, all groups can be written as a function of $T_1$, $T_2$ and $T_3$.\n",
    "\n",
    "Also, only $T_1$ has non-zero non-diagonal elements. This means that $a_{13}^{ex} = 0$. This fact is important in 1D, because only $\\frac{\\partial a_{13}^{(ex)}}{\\partial z}$ appears in the U-mom'm eq. Therefore there is no anisotropy mom'm source in 1D! I choose to keep it in the code for generality.\n",
    "\n",
    "### Tensors (Wallin groups)\n",
    "\n",
    "The sixth group does NOT have $II_\\Omega S$:"
   ]
  },
  {
   "cell_type": "code",
   "execution_count": 7,
   "id": "48de4000",
   "metadata": {},
   "outputs": [
    {
     "data": {
      "text/latex": [
       "\\[T_{wal6} = \\left[\\begin{matrix}0 & 0 & - \\frac{\\sigma^{3}}{4}\\\\0 & 0 & 0\\\\- \\frac{\\sigma^{3}}{4} & 0 & 0\\end{matrix}\\right]\\]"
      ]
     },
     "metadata": {},
     "output_type": "display_data"
    }
   ],
   "source": [
    "T6wal = S*O*O + O*O*S - sym.Rational(2,3)*eta4*sym.eye(3)\n",
    "disp('T_{wal6}',T6wal)"
   ]
  },
  {
   "cell_type": "markdown",
   "id": "7b310b73",
   "metadata": {},
   "source": [
    "This is equivalent to:\n",
    "\n",
    "$$\n",
    "T_{wal6} = - \\frac{\\sigma^2}{2} T_1 = II_\\Omega T_1 \n",
    "$$"
   ]
  },
  {
   "cell_type": "markdown",
   "id": "e21cdcca",
   "metadata": {},
   "source": [
    "## App D: EARSM 1D (with veering)\n",
    "\n",
    "Assume the only non-zero gradients are: \n",
    "\n",
    "$$\n",
    "\\frac{\\partial U}{\\partial z}, \\frac{\\partial V}{\\partial z}\n",
    "$$ \n",
    "\n",
    "This is actually NOT a subcase of 2D flows...\n",
    "\n",
    "$$\n",
    "S_{ij} = \\begin{bmatrix} 0 & 0 & \\frac{1}{2} \\frac{\\partial U}{\\partial z}  \\\\ 0 & 0 & \\frac{1}{2} \\frac{\\partial V}{\\partial z} \\\\ \\frac{1}{2} \\frac{\\partial U}{\\partial z}  & \\frac{1}{2} \\frac{\\partial V}{\\partial z} & 0 \\end{bmatrix}  \\quad , \\quad\n",
    "\\Omega_{ij} = \\begin{bmatrix} 0 & 0 & \\frac{1}{2} \\frac{\\partial U}{\\partial z}  \\\\ 0 & 0 & \\frac{1}{2} \\frac{\\partial V}{\\partial z} \\\\ -\\frac{1}{2} \\frac{\\partial U}{\\partial z}  & -\\frac{1}{2} \\frac{\\partial V}{\\partial z} & 0 \\end{bmatrix}  \n",
    "$$"
   ]
  },
  {
   "cell_type": "code",
   "execution_count": 22,
   "id": "5e8a1b06",
   "metadata": {},
   "outputs": [
    {
     "data": {
      "text/latex": [
       "\\[S_{ijVeer} = \\left[\\begin{matrix}0 & 0 & \\sigma_{u}\\\\0 & 0 & \\sigma_{v}\\\\\\sigma_{u} & \\sigma_{v} & 0\\end{matrix}\\right]\\]"
      ]
     },
     "metadata": {},
     "output_type": "display_data"
    },
    {
     "data": {
      "text/latex": [
       "\\[\\Omega_{ijVeer} = \\left[\\begin{matrix}0 & 0 & \\sigma_{u}\\\\0 & 0 & \\sigma_{v}\\\\- \\sigma_{u} & - \\sigma_{v} & 0\\end{matrix}\\right]\\]"
      ]
     },
     "metadata": {},
     "output_type": "display_data"
    },
    {
     "data": {
      "text/latex": [
       "\\[S_{ijVeer}^2 = \\left[\\begin{matrix}\\sigma_{u}^{2} & \\sigma_{u} \\sigma_{v} & 0\\\\\\sigma_{u} \\sigma_{v} & \\sigma_{v}^{2} & 0\\\\0 & 0 & \\sigma_{u}^{2} + \\sigma_{v}^{2}\\end{matrix}\\right]\\]"
      ]
     },
     "metadata": {},
     "output_type": "display_data"
    },
    {
     "data": {
      "text/latex": [
       "\\[\\Omega_{ijVeer}^2 = \\left[\\begin{matrix}- \\sigma_{u}^{2} & - \\sigma_{u} \\sigma_{v} & 0\\\\- \\sigma_{u} \\sigma_{v} & - \\sigma_{v}^{2} & 0\\\\0 & 0 & - \\sigma_{u}^{2} - \\sigma_{v}^{2}\\end{matrix}\\right]\\]"
      ]
     },
     "metadata": {},
     "output_type": "display_data"
    },
    {
     "data": {
      "text/latex": [
       "\\[II_S = 2 \\sigma_{u}^{2} + 2 \\sigma_{v}^{2}\\]"
      ]
     },
     "metadata": {},
     "output_type": "display_data"
    },
    {
     "data": {
      "text/latex": [
       "\\[II_\\Omega = - 2 \\sigma_{u}^{2} - 2 \\sigma_{v}^{2}\\]"
      ]
     },
     "metadata": {},
     "output_type": "display_data"
    },
    {
     "data": {
      "text/latex": [
       "\\[III = 0\\]"
      ]
     },
     "metadata": {},
     "output_type": "display_data"
    },
    {
     "data": {
      "text/latex": [
       "\\[IV = 0\\]"
      ]
     },
     "metadata": {},
     "output_type": "display_data"
    },
    {
     "data": {
      "text/latex": [
       "\\[V = - \\sigma_{u}^{2} \\left(\\sigma_{u}^{2} + \\sigma_{v}^{2}\\right) - \\sigma_{u} \\left(\\sigma_{u}^{3} + \\sigma_{u} \\sigma_{v}^{2}\\right) - \\sigma_{v}^{2} \\left(\\sigma_{u}^{2} + \\sigma_{v}^{2}\\right) - \\sigma_{v} \\left(\\sigma_{u}^{2} \\sigma_{v} + \\sigma_{v}^{3}\\right)\\]"
      ]
     },
     "metadata": {},
     "output_type": "display_data"
    },
    {
     "data": {
      "text/latex": [
       "\\[T_1 = \\left[\\begin{matrix}0 & 0 & \\sigma_{u}\\\\0 & 0 & \\sigma_{v}\\\\\\sigma_{u} & \\sigma_{v} & 0\\end{matrix}\\right]\\]"
      ]
     },
     "metadata": {},
     "output_type": "display_data"
    },
    {
     "data": {
      "text/latex": [
       "\\[T_2 = \\left[\\begin{matrix}2 \\sigma_{u}^{2} & 2 \\sigma_{u} \\sigma_{v} & 0\\\\2 \\sigma_{u} \\sigma_{v} & 2 \\sigma_{v}^{2} & 0\\\\0 & 0 & - 2 \\sigma_{u}^{2} - 2 \\sigma_{v}^{2}\\end{matrix}\\right]\\]"
      ]
     },
     "metadata": {},
     "output_type": "display_data"
    },
    {
     "data": {
      "text/latex": [
       "\\[T_3 = \\left[\\begin{matrix}\\frac{\\sigma_{u}^{2}}{3} - \\frac{2 \\sigma_{v}^{2}}{3} & \\sigma_{u} \\sigma_{v} & 0\\\\\\sigma_{u} \\sigma_{v} & - \\frac{2 \\sigma_{u}^{2}}{3} + \\frac{\\sigma_{v}^{2}}{3} & 0\\\\0 & 0 & \\frac{\\sigma_{u}^{2}}{3} + \\frac{\\sigma_{v}^{2}}{3}\\end{matrix}\\right]\\]"
      ]
     },
     "metadata": {},
     "output_type": "display_data"
    },
    {
     "data": {
      "text/latex": [
       "\\[T_4 = \\left[\\begin{matrix}- \\frac{\\sigma_{u}^{2}}{3} + \\frac{2 \\sigma_{v}^{2}}{3} & - \\sigma_{u} \\sigma_{v} & 0\\\\- \\sigma_{u} \\sigma_{v} & \\frac{2 \\sigma_{u}^{2}}{3} - \\frac{\\sigma_{v}^{2}}{3} & 0\\\\0 & 0 & - \\frac{\\sigma_{u}^{2}}{3} - \\frac{\\sigma_{v}^{2}}{3}\\end{matrix}\\right]\\]"
      ]
     },
     "metadata": {},
     "output_type": "display_data"
    },
    {
     "data": {
      "text/latex": [
       "\\[T_5 = \\left[\\begin{matrix}0 & 0 & 0\\\\0 & 0 & 0\\\\0 & 0 & 0\\end{matrix}\\right]\\]"
      ]
     },
     "metadata": {},
     "output_type": "display_data"
    },
    {
     "data": {
      "text/latex": [
       "\\[T_6 = \\left[\\begin{matrix}0 & 0 & 0\\\\0 & 0 & 0\\\\0 & 0 & 0\\end{matrix}\\right]\\]"
      ]
     },
     "metadata": {},
     "output_type": "display_data"
    },
    {
     "data": {
      "text/latex": [
       "\\[T_7 = \\left[\\begin{matrix}- 2 \\sigma_{u}^{2} \\left(\\sigma_{u}^{2} + \\sigma_{v}^{2}\\right) & - 2 \\sigma_{u} \\sigma_{v} \\left(\\sigma_{u}^{2} + \\sigma_{v}^{2}\\right) & 0\\\\- 2 \\sigma_{u} \\sigma_{v} \\left(\\sigma_{u}^{2} + \\sigma_{v}^{2}\\right) & - 2 \\sigma_{v}^{2} \\left(\\sigma_{u}^{2} + \\sigma_{v}^{2}\\right) & 0\\\\0 & 0 & 2 \\left(\\sigma_{u}^{2} + \\sigma_{v}^{2}\\right)^{2}\\end{matrix}\\right]\\]"
      ]
     },
     "metadata": {},
     "output_type": "display_data"
    },
    {
     "data": {
      "text/latex": [
       "\\[T_8 = \\left[\\begin{matrix}- 2 \\sigma_{u}^{2} \\left(\\sigma_{u}^{2} + \\sigma_{v}^{2}\\right) & - 2 \\sigma_{u} \\sigma_{v} \\left(\\sigma_{u}^{2} + \\sigma_{v}^{2}\\right) & 0\\\\- 2 \\sigma_{u} \\sigma_{v} \\left(\\sigma_{u}^{2} + \\sigma_{v}^{2}\\right) & - 2 \\sigma_{v}^{2} \\left(\\sigma_{u}^{2} + \\sigma_{v}^{2}\\right) & 0\\\\0 & 0 & 2 \\left(\\sigma_{u}^{2} + \\sigma_{v}^{2}\\right)^{2}\\end{matrix}\\right]\\]"
      ]
     },
     "metadata": {},
     "output_type": "display_data"
    },
    {
     "data": {
      "text/latex": [
       "\\[T_9 = \\left[\\begin{matrix}- \\frac{2 \\sigma_{u}^{4}}{3} + \\frac{2 \\sigma_{u}^{2} \\sigma_{v}^{2}}{3} + \\frac{4 \\sigma_{v}^{4}}{3} & - 2 \\sigma_{u} \\sigma_{v} \\left(\\sigma_{u}^{2} + \\sigma_{v}^{2}\\right) & 0\\\\- 2 \\sigma_{u} \\sigma_{v} \\left(\\sigma_{u}^{2} + \\sigma_{v}^{2}\\right) & \\frac{4 \\sigma_{u}^{4}}{3} + \\frac{2 \\sigma_{u}^{2} \\sigma_{v}^{2}}{3} - \\frac{2 \\sigma_{v}^{4}}{3} & 0\\\\0 & 0 & - \\frac{2 \\sigma_{u}^{4}}{3} - \\frac{4 \\sigma_{u}^{2} \\sigma_{v}^{2}}{3} - \\frac{2 \\sigma_{v}^{4}}{3}\\end{matrix}\\right]\\]"
      ]
     },
     "metadata": {},
     "output_type": "display_data"
    },
    {
     "data": {
      "text/latex": [
       "\\[T_{10} = \\left[\\begin{matrix}0 & 0 & 0\\\\0 & 0 & 0\\\\0 & 0 & 0\\end{matrix}\\right]\\]"
      ]
     },
     "metadata": {},
     "output_type": "display_data"
    }
   ],
   "source": [
    "sigu = sym.symbols(r'\\sigma_u')\n",
    "sigv = sym.symbols(r'\\sigma_v')\n",
    "Sv = sym.Matrix([[0, 0, sigu],[0, 0, sigv],[sigu, sigv, 0]])\n",
    "Ov = sym.Matrix([[0, 0, sigu],[0, 0, sigv],[-sigu, -sigv, 0]])\n",
    "disp('S_{ijVeer}',Sv)\n",
    "disp('\\Omega_{ijVeer}',Ov)\n",
    "disp('S_{ijVeer}^2',Sv**2)\n",
    "disp('\\Omega_{ijVeer}^2',Ov**2)\n",
    "sym_invariants(Sv,Ov)\n",
    "sym_tensors(Sv,Ov)"
   ]
  },
  {
   "cell_type": "markdown",
   "id": "99eb6886",
   "metadata": {},
   "source": [
    "There is some similarities with the non-veered case:\n",
    "- $T_5$, $T_6$ $T_{10}$ are all 0's.\n",
    "- Only $T_1$ has non-zero 13 and 23 components. The u- and v-eqs still only depend on $a_{13}^{(ex)}$ and $a_{23}^{(ex)}$, therefore we can again say that there is no extra anisotropy mom'm source term in the mom'm eqs!"
   ]
  },
  {
   "cell_type": "markdown",
   "id": "8d99e0d5",
   "metadata": {},
   "source": [
    "## App E: EARSM 2D\n",
    "\n",
    "Assume no variation in y-direction and $V=0$ (Pope 1975, p.334); this is the definition of 2D. The non-zero gradients are: \n",
    "\n",
    "$$\n",
    "\\frac{\\partial U}{\\partial x}, \\frac{\\partial U}{\\partial z}, \\frac{\\partial W}{\\partial x}, \\frac{\\partial W}{\\partial z} \n",
    "$$ \n",
    "\n",
    "But pr. continuity $\\frac{\\partial W}{\\partial z} = - \\frac{\\partial U}{\\partial x}$.\n",
    "\n",
    "$$\n",
    "S_{ij} = \\begin{bmatrix} \\frac{\\partial U}{\\partial x} & 0 & \\frac{1}{2} \\left(\\frac{\\partial U}{\\partial z} + \\frac{\\partial W}{\\partial x} \\right) \\\\ 0 & 0 & 0 \\\\ \\frac{1}{2} \\left(\\frac{\\partial U}{\\partial z} + \\frac{\\partial W}{\\partial x} \\right) & 0 & -\\frac{\\partial U}{\\partial x} \\end{bmatrix}  \\quad , \\quad\n",
    "\\Omega_{ij} = \\begin{bmatrix} 0 & 0 & \\frac{1}{2} \\left(\\frac{\\partial U}{\\partial z} - \\frac{\\partial W}{\\partial x} \\right) \\\\ 0 & 0 & 0 \\\\ -\\frac{1}{2} \\left(\\frac{\\partial U}{\\partial z} - \\frac{\\partial W}{\\partial x} \\right) & 0 & 0 \\end{bmatrix}  \n",
    "$$"
   ]
  },
  {
   "cell_type": "code",
   "execution_count": 8,
   "id": "9c3f660a",
   "metadata": {},
   "outputs": [
    {
     "data": {
      "text/latex": [
       "\\[S_{ij2D} = \\left[\\begin{matrix}\\frac{\\partial~U}{\\partial~x} & 0 & 0.5 \\frac{\\partial~U}{\\partial~z} + 0.5 \\frac{\\partial~W}{\\partial~x}\\\\0 & 0 & 0\\\\0.5 \\frac{\\partial~U}{\\partial~z} + 0.5 \\frac{\\partial~W}{\\partial~x} & 0 & - \\frac{\\partial~U}{\\partial~x}\\end{matrix}\\right]\\]"
      ]
     },
     "metadata": {},
     "output_type": "display_data"
    },
    {
     "data": {
      "text/latex": [
       "\\[\\Omega_{ij2D} = \\left[\\begin{matrix}0 & 0 & 0.5 \\frac{\\partial~U}{\\partial~z} - 0.5 \\frac{\\partial~W}{\\partial~x}\\\\0 & 0 & 0\\\\- 0.5 \\frac{\\partial~U}{\\partial~z} + 0.5 \\frac{\\partial~W}{\\partial~x} & 0 & 0\\end{matrix}\\right]\\]"
      ]
     },
     "metadata": {},
     "output_type": "display_data"
    },
    {
     "data": {
      "text/latex": [
       "\\[S_{ij2D}^2 = \\left[\\begin{matrix}\\frac{\\partial~U}{\\partial~x}^{2} + 0.25 \\frac{\\partial~U}{\\partial~z}^{2} + 0.5 \\frac{\\partial~U}{\\partial~z} \\frac{\\partial~W}{\\partial~x} + 0.25 \\frac{\\partial~W}{\\partial~x}^{2} & 0 & 0\\\\0 & 0 & 0\\\\0 & 0 & \\frac{\\partial~U}{\\partial~x}^{2} + 0.25 \\frac{\\partial~U}{\\partial~z}^{2} + 0.5 \\frac{\\partial~U}{\\partial~z} \\frac{\\partial~W}{\\partial~x} + 0.25 \\frac{\\partial~W}{\\partial~x}^{2}\\end{matrix}\\right]\\]"
      ]
     },
     "metadata": {},
     "output_type": "display_data"
    },
    {
     "data": {
      "text/latex": [
       "\\[\\Omega_{ij2D}^2 = \\left[\\begin{matrix}- 0.25 \\frac{\\partial~U}{\\partial~z}^{2} + 0.5 \\frac{\\partial~U}{\\partial~z} \\frac{\\partial~W}{\\partial~x} - 0.25 \\frac{\\partial~W}{\\partial~x}^{2} & 0 & 0\\\\0 & 0 & 0\\\\0 & 0 & - 0.25 \\frac{\\partial~U}{\\partial~z}^{2} + 0.5 \\frac{\\partial~U}{\\partial~z} \\frac{\\partial~W}{\\partial~x} - 0.25 \\frac{\\partial~W}{\\partial~x}^{2}\\end{matrix}\\right]\\]"
      ]
     },
     "metadata": {},
     "output_type": "display_data"
    },
    {
     "data": {
      "text/latex": [
       "\\[II_S = 2 \\frac{\\partial~U}{\\partial~x}^{2} + 0.5 \\frac{\\partial~U}{\\partial~z}^{2} + 1.0 \\frac{\\partial~U}{\\partial~z} \\frac{\\partial~W}{\\partial~x} + 0.5 \\frac{\\partial~W}{\\partial~x}^{2}\\]"
      ]
     },
     "metadata": {},
     "output_type": "display_data"
    },
    {
     "data": {
      "text/latex": [
       "\\[II_\\Omega = - 0.5 \\frac{\\partial~U}{\\partial~z}^{2} + 1.0 \\frac{\\partial~U}{\\partial~z} \\frac{\\partial~W}{\\partial~x} - 0.5 \\frac{\\partial~W}{\\partial~x}^{2}\\]"
      ]
     },
     "metadata": {},
     "output_type": "display_data"
    },
    {
     "data": {
      "text/latex": [
       "\\[III = 0\\]"
      ]
     },
     "metadata": {},
     "output_type": "display_data"
    },
    {
     "data": {
      "text/latex": [
       "\\[IV = 0\\]"
      ]
     },
     "metadata": {},
     "output_type": "display_data"
    },
    {
     "data": {
      "text/latex": [
       "\\[V = 2 \\frac{\\partial~U}{\\partial~x}^{2} \\left(- 0.5 \\frac{\\partial~U}{\\partial~z} + 0.5 \\frac{\\partial~W}{\\partial~x}\\right) \\left(0.5 \\frac{\\partial~U}{\\partial~z} - 0.5 \\frac{\\partial~W}{\\partial~x}\\right) + 0.5 \\left(- 0.5 \\frac{\\partial~U}{\\partial~z} + 0.5 \\frac{\\partial~W}{\\partial~x}\\right) \\left(0.5 \\frac{\\partial~U}{\\partial~z} - 0.5 \\frac{\\partial~W}{\\partial~x}\\right) \\left(\\frac{\\partial~U}{\\partial~z} + \\frac{\\partial~W}{\\partial~x}\\right)^{2}\\]"
      ]
     },
     "metadata": {},
     "output_type": "display_data"
    }
   ],
   "source": [
    "Ux = sym.symbols(r'\\frac{\\partial~U}{\\partial~x}')\n",
    "Uz = sym.symbols(r'\\frac{\\partial~U}{\\partial~z}')\n",
    "Wx = sym.symbols(r'\\frac{\\partial~W}{\\partial~x}')\n",
    "S2d = sym.Matrix([[Ux, 0, 0.5*(Uz+Wx)],[0, 0, 0],[0.5*(Uz+Wx), 0, -Ux]])\n",
    "O2d = sym.Matrix([[0, 0, 0.5*(Uz-Wx)],[0, 0, 0],[0.5*(Wx-Uz), 0, 0]])\n",
    "eta1 = sym.trace(S2d**2)\n",
    "eta2 = sym.trace(O2d**2)\n",
    "eta3 = sym.trace(S2d**3)\n",
    "eta4 = sym.trace(O2d*S2d*S2d)\n",
    "eta5 = sym.trace(O2d*O2d*S2d*S2d)\n",
    "disp('S_{ij2D}',S2d)\n",
    "disp('\\Omega_{ij2D}',O2d)\n",
    "disp('S_{ij2D}^2',S2d**2)\n",
    "disp('\\Omega_{ij2D}^2',O2d**2)\n",
    "disp('II_S',eta1)\n",
    "disp('II_\\Omega',eta2)\n",
    "disp('III',eta3)\n",
    "disp('IV',eta4)\n",
    "disp('V',eta5)"
   ]
  },
  {
   "cell_type": "code",
   "execution_count": 9,
   "id": "01328e64",
   "metadata": {},
   "outputs": [
    {
     "name": "stdout",
     "output_type": "stream",
     "text": [
      "e1 = 0.1000 and e2 = -0.0800\n"
     ]
    }
   ],
   "source": [
    "e1 = eta1.evalf(subs={Uz: -0.3, Wx: 0.1, Ux: 0.2, })\n",
    "e2 = eta2.evalf(subs={Uz: 0.3, Wx: -0.1})\n",
    "print('e1 = %.4f and e2 = %.4f'%(e1,e2) )\n"
   ]
  },
  {
   "cell_type": "markdown",
   "id": "33b3ec8c",
   "metadata": {},
   "source": [
    "Conclusions:\n",
    "\n",
    "- $II_S \\neq - II_\\Omega$. This is in contrast to parallel flow.\n",
    "- It seems like $II_S > 0$ always.\n",
    "- It seems like $II_\\Omega <0$ always"
   ]
  },
  {
   "cell_type": "markdown",
   "id": "9aba2468",
   "metadata": {},
   "source": [
    "## Turbulence $k$-$\\varepsilon$ modelling constants\n",
    "\n",
    "Even EARSM needs modelling constants. $\\sigma_k = 1.0$ and $\\sigma_\\varepsilon = 1.3$ are used in almost all litterature, but there is some freedom among the others. They should however satisfy, c.f. (Richards 1993, eq.10), Sørensen (1995, eq.10) or (van der Laan 2017, eq.23):\n",
    "\n",
    "$$\n",
    "C_{\\varepsilon,1} + \\kappa^2 C_\\mu^{-1/2} \\sigma_{\\varepsilon}^{-1} = C_{\\varepsilon,2}\n",
    "$$\n",
    "\n",
    "\n"
   ]
  },
  {
   "cell_type": "code",
   "execution_count": 11,
   "id": "03d23b2e",
   "metadata": {},
   "outputs": [
    {
     "name": "stdout",
     "output_type": "stream",
     "text": [
      "ceps2 = 1.91679\n"
     ]
    }
   ],
   "source": [
    "sigma_eps = 1.37\n",
    "kappa = 0.4\n",
    "cmu = 0.06\n",
    "ceps1 = 1.44\n",
    "\n",
    "ceps2 = ceps1 + kappa**2*cmu**(-0.5)*sigma_eps**(-1)\n",
    "\n",
    "print('ceps2 = %.5f'%(ceps2))"
   ]
  },
  {
   "cell_type": "markdown",
   "id": "e8bf609d",
   "metadata": {},
   "source": [
    "# [Other notebook](./testA.ipynb)"
   ]
  },
  {
   "cell_type": "markdown",
   "id": "a0dc025a",
   "metadata": {},
   "source": [
    "<!--\n",
    "|                            \t| $\\kappa$ \t| $C_\\mu$ \t| $\\sigma_k$ \t| $\\sigma_\\varepsilon$ \t| $C_{\\varepsilon,1}$ \t| $C_{\\varepsilon,2}$ \t|\n",
    "|----------------------------\t|----------\t|---------\t|------------\t|----------------------\t|---------------------\t|---------------------\t|\n",
    "| Sørensen (1995) ABL        \t| 0.4      \t| 0.03    \t| 1.0        \t| 1.3                  \t| 1.21                \t| 1.92                \t|\n",
    "| Sørensen (1995) Industrial \t| 0.4      \t| 0.09    \t| 1.0        \t| 1.3                  \t| 1.42                \t| 1.92                \t|\n",
    "| Velibor (2019) BC article  \t| 0.4      \t| ?       \t| 1.0        \t| 1.3                  \t| 1.44                \t| 1.92                \t|\n",
    "| Velibor (2021) thesis      \t| 0.4      \t| 0.09    \t| 1.0        \t| 1.3                  \t| 1.44                \t| 1.82                \t|\n",
    "\n",
    "asf\n",
    "-->"
   ]
  }
 ],
 "metadata": {
  "kernelspec": {
   "display_name": "Python 3",
   "language": "python",
   "name": "python3"
  },
  "language_info": {
   "codemirror_mode": {
    "name": "ipython",
    "version": 3
   },
   "file_extension": ".py",
   "mimetype": "text/x-python",
   "name": "python",
   "nbconvert_exporter": "python",
   "pygments_lexer": "ipython3",
   "version": "3.7.10"
  }
 },
 "nbformat": 4,
 "nbformat_minor": 5
}
